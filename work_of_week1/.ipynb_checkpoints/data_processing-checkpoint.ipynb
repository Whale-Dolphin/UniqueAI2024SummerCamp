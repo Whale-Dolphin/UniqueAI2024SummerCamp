{
 "cells": [
  {
   "cell_type": "markdown",
   "id": "265b2bbc",
   "metadata": {},
   "source": [
    "# UniqueAI夏令营第一周任务\n",
    "\n",
    "## 前置任务\n",
    "\n",
    "wsl, git,miniconda的配置\n",
    "\n",
    "<img src=\"前置任务截屏.png\" alt=\"配置截屏\" style=\"zoom:25%;\" />"
   ]
  },
  {
   "cell_type": "code",
   "execution_count": 186,
   "id": "34b54e13",
   "metadata": {},
   "outputs": [],
   "source": [
    "# 导入所需要的工具包\n",
    "import numpy as np \n",
    "import pandas as pd\n",
    "import matplotlib.pyplot as plt\n",
    "from sklearn.preprocessing import StandardScaler\n",
    "from sklearn.preprocessing import MinMaxScaler\n",
    "%matplotlib inline"
   ]
  },
  {
   "cell_type": "code",
   "execution_count": 187,
   "id": "38f010c2",
   "metadata": {},
   "outputs": [
    {
     "data": {
      "text/html": [
       "<div>\n",
       "<style scoped>\n",
       "    .dataframe tbody tr th:only-of-type {\n",
       "        vertical-align: middle;\n",
       "    }\n",
       "\n",
       "    .dataframe tbody tr th {\n",
       "        vertical-align: top;\n",
       "    }\n",
       "\n",
       "    .dataframe thead th {\n",
       "        text-align: right;\n",
       "    }\n",
       "</style>\n",
       "<table border=\"1\" class=\"dataframe\">\n",
       "  <thead>\n",
       "    <tr style=\"text-align: right;\">\n",
       "      <th></th>\n",
       "      <th>PassengerId</th>\n",
       "      <th>Survived</th>\n",
       "      <th>Pclass</th>\n",
       "      <th>Name</th>\n",
       "      <th>Sex</th>\n",
       "      <th>Age</th>\n",
       "      <th>SibSp</th>\n",
       "      <th>Parch</th>\n",
       "      <th>Ticket</th>\n",
       "      <th>Fare</th>\n",
       "      <th>Cabin</th>\n",
       "      <th>Embarked</th>\n",
       "    </tr>\n",
       "  </thead>\n",
       "  <tbody>\n",
       "    <tr>\n",
       "      <th>0</th>\n",
       "      <td>1</td>\n",
       "      <td>0</td>\n",
       "      <td>3</td>\n",
       "      <td>Braund, Mr. Owen Harris</td>\n",
       "      <td>male</td>\n",
       "      <td>22.0</td>\n",
       "      <td>1</td>\n",
       "      <td>0</td>\n",
       "      <td>A/5 21171</td>\n",
       "      <td>7.2500</td>\n",
       "      <td>NaN</td>\n",
       "      <td>S</td>\n",
       "    </tr>\n",
       "    <tr>\n",
       "      <th>1</th>\n",
       "      <td>2</td>\n",
       "      <td>1</td>\n",
       "      <td>1</td>\n",
       "      <td>Cumings, Mrs. John Bradley (Florence Briggs Th...</td>\n",
       "      <td>female</td>\n",
       "      <td>38.0</td>\n",
       "      <td>1</td>\n",
       "      <td>0</td>\n",
       "      <td>PC 17599</td>\n",
       "      <td>71.2833</td>\n",
       "      <td>C85</td>\n",
       "      <td>C</td>\n",
       "    </tr>\n",
       "    <tr>\n",
       "      <th>2</th>\n",
       "      <td>3</td>\n",
       "      <td>1</td>\n",
       "      <td>3</td>\n",
       "      <td>Heikkinen, Miss. Laina</td>\n",
       "      <td>female</td>\n",
       "      <td>26.0</td>\n",
       "      <td>0</td>\n",
       "      <td>0</td>\n",
       "      <td>STON/O2. 3101282</td>\n",
       "      <td>7.9250</td>\n",
       "      <td>NaN</td>\n",
       "      <td>S</td>\n",
       "    </tr>\n",
       "    <tr>\n",
       "      <th>3</th>\n",
       "      <td>4</td>\n",
       "      <td>1</td>\n",
       "      <td>1</td>\n",
       "      <td>Futrelle, Mrs. Jacques Heath (Lily May Peel)</td>\n",
       "      <td>female</td>\n",
       "      <td>35.0</td>\n",
       "      <td>1</td>\n",
       "      <td>0</td>\n",
       "      <td>113803</td>\n",
       "      <td>53.1000</td>\n",
       "      <td>C123</td>\n",
       "      <td>S</td>\n",
       "    </tr>\n",
       "    <tr>\n",
       "      <th>4</th>\n",
       "      <td>5</td>\n",
       "      <td>0</td>\n",
       "      <td>3</td>\n",
       "      <td>Allen, Mr. William Henry</td>\n",
       "      <td>male</td>\n",
       "      <td>35.0</td>\n",
       "      <td>0</td>\n",
       "      <td>0</td>\n",
       "      <td>373450</td>\n",
       "      <td>8.0500</td>\n",
       "      <td>NaN</td>\n",
       "      <td>S</td>\n",
       "    </tr>\n",
       "  </tbody>\n",
       "</table>\n",
       "</div>"
      ],
      "text/plain": [
       "   PassengerId  Survived  Pclass  \\\n",
       "0            1         0       3   \n",
       "1            2         1       1   \n",
       "2            3         1       3   \n",
       "3            4         1       1   \n",
       "4            5         0       3   \n",
       "\n",
       "                                                Name     Sex   Age  SibSp  \\\n",
       "0                            Braund, Mr. Owen Harris    male  22.0      1   \n",
       "1  Cumings, Mrs. John Bradley (Florence Briggs Th...  female  38.0      1   \n",
       "2                             Heikkinen, Miss. Laina  female  26.0      0   \n",
       "3       Futrelle, Mrs. Jacques Heath (Lily May Peel)  female  35.0      1   \n",
       "4                           Allen, Mr. William Henry    male  35.0      0   \n",
       "\n",
       "   Parch            Ticket     Fare Cabin Embarked  \n",
       "0      0         A/5 21171   7.2500   NaN        S  \n",
       "1      0          PC 17599  71.2833   C85        C  \n",
       "2      0  STON/O2. 3101282   7.9250   NaN        S  \n",
       "3      0            113803  53.1000  C123        S  \n",
       "4      0            373450   8.0500   NaN        S  "
      ]
     },
     "execution_count": 187,
     "metadata": {},
     "output_type": "execute_result"
    }
   ],
   "source": [
    "# 导入数据\n",
    "data=pd.read_csv('Titanic.csv')\n",
    "data.head()"
   ]
  },
  {
   "cell_type": "markdown",
   "id": "5b6b49b7",
   "metadata": {},
   "source": [
    "## 数据处理"
   ]
  },
  {
   "cell_type": "markdown",
   "id": "2ed318ec",
   "metadata": {},
   "source": [
    "### 1.缺失值处理"
   ]
  },
  {
   "cell_type": "code",
   "execution_count": 188,
   "id": "70267591",
   "metadata": {},
   "outputs": [
    {
     "data": {
      "text/plain": [
       "PassengerId      0\n",
       "Survived         0\n",
       "Pclass           0\n",
       "Name             0\n",
       "Sex              0\n",
       "Age            177\n",
       "SibSp            0\n",
       "Parch            0\n",
       "Ticket           0\n",
       "Fare             0\n",
       "Cabin          687\n",
       "Embarked         2\n",
       "dtype: int64"
      ]
     },
     "execution_count": 188,
     "metadata": {},
     "output_type": "execute_result"
    }
   ],
   "source": [
    "# 看看缺失值\n",
    "data.isnull().sum() # checking for total null values"
   ]
  },
  {
   "cell_type": "markdown",
   "id": "a35015d1",
   "metadata": {},
   "source": [
    "由此看出只有**Age,Cabin,Embarked**有缺失值"
   ]
  },
  {
   "cell_type": "markdown",
   "id": "9baee48e",
   "metadata": {},
   "source": [
    "我们删去**PassengerId**，**Name**，**Ticket**，**Cabin**这些不重要的列"
   ]
  },
  {
   "cell_type": "code",
   "execution_count": 189,
   "id": "c7d94079",
   "metadata": {},
   "outputs": [
    {
     "data": {
      "text/html": [
       "<div>\n",
       "<style scoped>\n",
       "    .dataframe tbody tr th:only-of-type {\n",
       "        vertical-align: middle;\n",
       "    }\n",
       "\n",
       "    .dataframe tbody tr th {\n",
       "        vertical-align: top;\n",
       "    }\n",
       "\n",
       "    .dataframe thead th {\n",
       "        text-align: right;\n",
       "    }\n",
       "</style>\n",
       "<table border=\"1\" class=\"dataframe\">\n",
       "  <thead>\n",
       "    <tr style=\"text-align: right;\">\n",
       "      <th></th>\n",
       "      <th>Survived</th>\n",
       "      <th>Pclass</th>\n",
       "      <th>Sex</th>\n",
       "      <th>Age</th>\n",
       "      <th>SibSp</th>\n",
       "      <th>Parch</th>\n",
       "      <th>Fare</th>\n",
       "      <th>Embarked</th>\n",
       "    </tr>\n",
       "  </thead>\n",
       "  <tbody>\n",
       "    <tr>\n",
       "      <th>0</th>\n",
       "      <td>0</td>\n",
       "      <td>3</td>\n",
       "      <td>male</td>\n",
       "      <td>22.0</td>\n",
       "      <td>1</td>\n",
       "      <td>0</td>\n",
       "      <td>7.2500</td>\n",
       "      <td>S</td>\n",
       "    </tr>\n",
       "    <tr>\n",
       "      <th>1</th>\n",
       "      <td>1</td>\n",
       "      <td>1</td>\n",
       "      <td>female</td>\n",
       "      <td>38.0</td>\n",
       "      <td>1</td>\n",
       "      <td>0</td>\n",
       "      <td>71.2833</td>\n",
       "      <td>C</td>\n",
       "    </tr>\n",
       "    <tr>\n",
       "      <th>2</th>\n",
       "      <td>1</td>\n",
       "      <td>3</td>\n",
       "      <td>female</td>\n",
       "      <td>26.0</td>\n",
       "      <td>0</td>\n",
       "      <td>0</td>\n",
       "      <td>7.9250</td>\n",
       "      <td>S</td>\n",
       "    </tr>\n",
       "    <tr>\n",
       "      <th>3</th>\n",
       "      <td>1</td>\n",
       "      <td>1</td>\n",
       "      <td>female</td>\n",
       "      <td>35.0</td>\n",
       "      <td>1</td>\n",
       "      <td>0</td>\n",
       "      <td>53.1000</td>\n",
       "      <td>S</td>\n",
       "    </tr>\n",
       "    <tr>\n",
       "      <th>4</th>\n",
       "      <td>0</td>\n",
       "      <td>3</td>\n",
       "      <td>male</td>\n",
       "      <td>35.0</td>\n",
       "      <td>0</td>\n",
       "      <td>0</td>\n",
       "      <td>8.0500</td>\n",
       "      <td>S</td>\n",
       "    </tr>\n",
       "    <tr>\n",
       "      <th>5</th>\n",
       "      <td>0</td>\n",
       "      <td>3</td>\n",
       "      <td>male</td>\n",
       "      <td>NaN</td>\n",
       "      <td>0</td>\n",
       "      <td>0</td>\n",
       "      <td>8.4583</td>\n",
       "      <td>Q</td>\n",
       "    </tr>\n",
       "  </tbody>\n",
       "</table>\n",
       "</div>"
      ],
      "text/plain": [
       "   Survived  Pclass     Sex   Age  SibSp  Parch     Fare Embarked\n",
       "0         0       3    male  22.0      1      0   7.2500        S\n",
       "1         1       1  female  38.0      1      0  71.2833        C\n",
       "2         1       3  female  26.0      0      0   7.9250        S\n",
       "3         1       1  female  35.0      1      0  53.1000        S\n",
       "4         0       3    male  35.0      0      0   8.0500        S\n",
       "5         0       3    male   NaN      0      0   8.4583        Q"
      ]
     },
     "execution_count": 189,
     "metadata": {},
     "output_type": "execute_result"
    }
   ],
   "source": [
    "# 删除指定的列\n",
    "data_dropped = data.drop(columns=['PassengerId', 'Name', 'Ticket','Cabin'])\n",
    "data_dropped.head(6)"
   ]
  },
  {
   "cell_type": "markdown",
   "id": "13297c08",
   "metadata": {},
   "source": [
    "#### 均值填补Age\n",
    "我们选取均值来填补Age的缺失值"
   ]
  },
  {
   "cell_type": "code",
   "execution_count": 190,
   "id": "48a9d153",
   "metadata": {},
   "outputs": [],
   "source": [
    "# 使用均值填补年龄列的缺失值\n",
    "data_dropped['Age'].fillna(data_dropped['Age'].mean(), inplace=True)"
   ]
  },
  {
   "cell_type": "code",
   "execution_count": 191,
   "id": "be4d5bb8",
   "metadata": {},
   "outputs": [
    {
     "data": {
      "text/plain": [
       "Survived    0\n",
       "Pclass      0\n",
       "Sex         0\n",
       "Age         0\n",
       "SibSp       0\n",
       "Parch       0\n",
       "Fare        0\n",
       "Embarked    2\n",
       "dtype: int64"
      ]
     },
     "execution_count": 191,
     "metadata": {},
     "output_type": "execute_result"
    }
   ],
   "source": [
    "data_dropped.isnull().sum()"
   ]
  },
  {
   "cell_type": "code",
   "execution_count": 192,
   "id": "bf14149a",
   "metadata": {},
   "outputs": [
    {
     "data": {
      "text/html": [
       "<div>\n",
       "<style scoped>\n",
       "    .dataframe tbody tr th:only-of-type {\n",
       "        vertical-align: middle;\n",
       "    }\n",
       "\n",
       "    .dataframe tbody tr th {\n",
       "        vertical-align: top;\n",
       "    }\n",
       "\n",
       "    .dataframe thead th {\n",
       "        text-align: right;\n",
       "    }\n",
       "</style>\n",
       "<table border=\"1\" class=\"dataframe\">\n",
       "  <thead>\n",
       "    <tr style=\"text-align: right;\">\n",
       "      <th></th>\n",
       "      <th>Survived</th>\n",
       "      <th>Pclass</th>\n",
       "      <th>Sex</th>\n",
       "      <th>Age</th>\n",
       "      <th>SibSp</th>\n",
       "      <th>Parch</th>\n",
       "      <th>Fare</th>\n",
       "      <th>Embarked</th>\n",
       "    </tr>\n",
       "  </thead>\n",
       "  <tbody>\n",
       "    <tr>\n",
       "      <th>0</th>\n",
       "      <td>0</td>\n",
       "      <td>3</td>\n",
       "      <td>male</td>\n",
       "      <td>22.000000</td>\n",
       "      <td>1</td>\n",
       "      <td>0</td>\n",
       "      <td>7.2500</td>\n",
       "      <td>S</td>\n",
       "    </tr>\n",
       "    <tr>\n",
       "      <th>1</th>\n",
       "      <td>1</td>\n",
       "      <td>1</td>\n",
       "      <td>female</td>\n",
       "      <td>38.000000</td>\n",
       "      <td>1</td>\n",
       "      <td>0</td>\n",
       "      <td>71.2833</td>\n",
       "      <td>C</td>\n",
       "    </tr>\n",
       "    <tr>\n",
       "      <th>2</th>\n",
       "      <td>1</td>\n",
       "      <td>3</td>\n",
       "      <td>female</td>\n",
       "      <td>26.000000</td>\n",
       "      <td>0</td>\n",
       "      <td>0</td>\n",
       "      <td>7.9250</td>\n",
       "      <td>S</td>\n",
       "    </tr>\n",
       "    <tr>\n",
       "      <th>3</th>\n",
       "      <td>1</td>\n",
       "      <td>1</td>\n",
       "      <td>female</td>\n",
       "      <td>35.000000</td>\n",
       "      <td>1</td>\n",
       "      <td>0</td>\n",
       "      <td>53.1000</td>\n",
       "      <td>S</td>\n",
       "    </tr>\n",
       "    <tr>\n",
       "      <th>4</th>\n",
       "      <td>0</td>\n",
       "      <td>3</td>\n",
       "      <td>male</td>\n",
       "      <td>35.000000</td>\n",
       "      <td>0</td>\n",
       "      <td>0</td>\n",
       "      <td>8.0500</td>\n",
       "      <td>S</td>\n",
       "    </tr>\n",
       "    <tr>\n",
       "      <th>5</th>\n",
       "      <td>0</td>\n",
       "      <td>3</td>\n",
       "      <td>male</td>\n",
       "      <td>29.699118</td>\n",
       "      <td>0</td>\n",
       "      <td>0</td>\n",
       "      <td>8.4583</td>\n",
       "      <td>Q</td>\n",
       "    </tr>\n",
       "  </tbody>\n",
       "</table>\n",
       "</div>"
      ],
      "text/plain": [
       "   Survived  Pclass     Sex        Age  SibSp  Parch     Fare Embarked\n",
       "0         0       3    male  22.000000      1      0   7.2500        S\n",
       "1         1       1  female  38.000000      1      0  71.2833        C\n",
       "2         1       3  female  26.000000      0      0   7.9250        S\n",
       "3         1       1  female  35.000000      1      0  53.1000        S\n",
       "4         0       3    male  35.000000      0      0   8.0500        S\n",
       "5         0       3    male  29.699118      0      0   8.4583        Q"
      ]
     },
     "execution_count": 192,
     "metadata": {},
     "output_type": "execute_result"
    }
   ],
   "source": [
    "data_dropped.head(6)"
   ]
  },
  {
   "cell_type": "markdown",
   "id": "cd6e17c6",
   "metadata": {},
   "source": [
    "#### 众数填补Embarked"
   ]
  },
  {
   "cell_type": "code",
   "execution_count": 193,
   "id": "33beab96",
   "metadata": {},
   "outputs": [],
   "source": [
    "mode_value = data_dropped['Embarked'].mode()[0]\n",
    "data_dropped['Embarked'].fillna(mode_value, inplace=True)"
   ]
  },
  {
   "cell_type": "code",
   "execution_count": 194,
   "id": "3b6903a2",
   "metadata": {},
   "outputs": [
    {
     "data": {
      "text/plain": [
       "Survived    0\n",
       "Pclass      0\n",
       "Sex         0\n",
       "Age         0\n",
       "SibSp       0\n",
       "Parch       0\n",
       "Fare        0\n",
       "Embarked    0\n",
       "dtype: int64"
      ]
     },
     "execution_count": 194,
     "metadata": {},
     "output_type": "execute_result"
    }
   ],
   "source": [
    "data_dropped.isnull().sum()"
   ]
  },
  {
   "cell_type": "markdown",
   "id": "0d773c1f",
   "metadata": {},
   "source": [
    "### 2.将数据标准化，归一化"
   ]
  },
  {
   "cell_type": "markdown",
   "id": "74b79a55",
   "metadata": {},
   "source": [
    "将Age和Fare列的数据**标准化**"
   ]
  },
  {
   "cell_type": "code",
   "execution_count": 195,
   "id": "df52d2ae",
   "metadata": {},
   "outputs": [
    {
     "name": "stdout",
     "output_type": "stream",
     "text": [
      "           Age     Fare\n",
      "0    22.000000   7.2500\n",
      "1    38.000000  71.2833\n",
      "2    26.000000   7.9250\n",
      "3    35.000000  53.1000\n",
      "4    35.000000   8.0500\n",
      "..         ...      ...\n",
      "886  27.000000  13.0000\n",
      "887  19.000000  30.0000\n",
      "888  29.699118  23.4500\n",
      "889  26.000000  30.0000\n",
      "890  32.000000   7.7500\n",
      "\n",
      "[891 rows x 2 columns]\n"
     ]
    }
   ],
   "source": [
    "# 提取需要标准化的列\n",
    "columns_to_standardize =data_dropped[['Age','Fare']]\n",
    "print(columns_to_standardize)"
   ]
  },
  {
   "cell_type": "code",
   "execution_count": 196,
   "id": "112dadda",
   "metadata": {},
   "outputs": [
    {
     "name": "stdout",
     "output_type": "stream",
     "text": [
      "          Age      Fare\n",
      "0   -0.592481 -0.502445\n",
      "1    0.638789  0.786845\n",
      "2   -0.284663 -0.488854\n",
      "3    0.407926  0.420730\n",
      "4    0.407926 -0.486337\n",
      "..        ...       ...\n",
      "886 -0.207709 -0.386671\n",
      "887 -0.823344 -0.044381\n",
      "888  0.000000 -0.176263\n",
      "889 -0.284663 -0.044381\n",
      "890  0.177063 -0.492378\n",
      "\n",
      "[891 rows x 2 columns]\n"
     ]
    }
   ],
   "source": [
    "#创建StandardScaler 对象\n",
    "scaler_stan = StandardScaler()\n",
    "#将数据进行标准化\n",
    "data_Standardized=scaler_stan.fit_transform(columns_to_standardize) \n",
    "#转换回DataFrame类型\n",
    "data_Standardized=pd.DataFrame(data_scaled,columns=columns_to_standardize.columns) \n",
    "print(data_Standardized)"
   ]
  },
  {
   "cell_type": "markdown",
   "id": "1125e513",
   "metadata": {},
   "source": [
    "将Age和Fare的数据**归一化**"
   ]
  },
  {
   "cell_type": "code",
   "execution_count": 197,
   "id": "94dd21a9",
   "metadata": {},
   "outputs": [
    {
     "name": "stdout",
     "output_type": "stream",
     "text": [
      "          Age      Fare\n",
      "0    0.271174  0.014151\n",
      "1    0.472229  0.139136\n",
      "2    0.321438  0.015469\n",
      "3    0.434531  0.103644\n",
      "4    0.434531  0.015713\n",
      "..        ...       ...\n",
      "886  0.334004  0.025374\n",
      "887  0.233476  0.058556\n",
      "888  0.367921  0.045771\n",
      "889  0.321438  0.058556\n",
      "890  0.396833  0.015127\n",
      "\n",
      "[891 rows x 2 columns]\n"
     ]
    }
   ],
   "source": [
    "# 对数据进行归一化\n",
    "# 创建MinMaxScaler对象\n",
    "scaler_nor = MinMaxScaler()\n",
    "# 对Age和Fare列进行归一化\n",
    "data_normalized = scaler_nor.fit_transform(data_dropped[['Age', 'Fare']])\n",
    "# 将归一化后的数据转换回DataFrame类型\n",
    "data_normalized = pd.DataFrame(data_normalized, columns=['Age', 'Fare'])\n",
    "print(data_normalized)"
   ]
  },
  {
   "cell_type": "markdown",
   "id": "0249b8c3",
   "metadata": {},
   "source": [
    "因为后面涉及逻辑回归的拟合，我们选取标准化数据作为**Age**和**Fare**这两列数据处理的结果"
   ]
  },
  {
   "cell_type": "code",
   "execution_count": 198,
   "id": "5acbeac0",
   "metadata": {},
   "outputs": [
    {
     "name": "stdout",
     "output_type": "stream",
     "text": [
      "     Survived  Pclass     Sex       Age  SibSp  Parch      Fare Embarked\n",
      "0           0       3    male -0.592481      1      0 -0.502445        S\n",
      "1           1       1  female  0.638789      1      0  0.786845        C\n",
      "2           1       3  female -0.284663      0      0 -0.488854        S\n",
      "3           1       1  female  0.407926      1      0  0.420730        S\n",
      "4           0       3    male  0.407926      0      0 -0.486337        S\n",
      "..        ...     ...     ...       ...    ...    ...       ...      ...\n",
      "886         0       2    male -0.207709      0      0 -0.386671        S\n",
      "887         1       1  female -0.823344      0      0 -0.044381        S\n",
      "888         0       3  female  0.000000      1      2 -0.176263        S\n",
      "889         1       1    male -0.284663      0      0 -0.044381        C\n",
      "890         0       3    male  0.177063      0      0 -0.492378        Q\n",
      "\n",
      "[891 rows x 8 columns]\n"
     ]
    }
   ],
   "source": [
    "data_dropped[['Age','Fare']]=data_Standardized\n",
    "print(data_dropped)"
   ]
  },
  {
   "cell_type": "markdown",
   "id": "9606af26",
   "metadata": {},
   "source": [
    "### 3.对于离散型变量的OneHotEncoder。"
   ]
  },
  {
   "cell_type": "code",
   "execution_count": 199,
   "id": "e8f80ff1",
   "metadata": {},
   "outputs": [
    {
     "name": "stdout",
     "output_type": "stream",
     "text": [
      "     Survived  Pclass       Age  SibSp  Parch      Fare  Sex_female  Sex_male  \\\n",
      "0           0       3 -0.592481      1      0 -0.502445           0         1   \n",
      "1           1       1  0.638789      1      0  0.786845           1         0   \n",
      "2           1       3 -0.284663      0      0 -0.488854           1         0   \n",
      "3           1       1  0.407926      1      0  0.420730           1         0   \n",
      "4           0       3  0.407926      0      0 -0.486337           0         1   \n",
      "..        ...     ...       ...    ...    ...       ...         ...       ...   \n",
      "886         0       2 -0.207709      0      0 -0.386671           0         1   \n",
      "887         1       1 -0.823344      0      0 -0.044381           1         0   \n",
      "888         0       3  0.000000      1      2 -0.176263           1         0   \n",
      "889         1       1 -0.284663      0      0 -0.044381           0         1   \n",
      "890         0       3  0.177063      0      0 -0.492378           0         1   \n",
      "\n",
      "     Embarked_C  Embarked_Q  Embarked_S  \n",
      "0             0           0           1  \n",
      "1             1           0           0  \n",
      "2             0           0           1  \n",
      "3             0           0           1  \n",
      "4             0           0           1  \n",
      "..          ...         ...         ...  \n",
      "886           0           0           1  \n",
      "887           0           0           1  \n",
      "888           0           0           1  \n",
      "889           1           0           0  \n",
      "890           0           1           0  \n",
      "\n",
      "[891 rows x 11 columns]\n"
     ]
    }
   ],
   "source": [
    "#使用 pandas 库中的 get_dummies\n",
    "data_encoded = pd.get_dummies(data_dropped, columns=['Sex','Embarked'])\n",
    "print(data_encoded)"
   ]
  },
  {
   "cell_type": "code",
   "execution_count": 200,
   "id": "d0e3b903",
   "metadata": {},
   "outputs": [],
   "source": [
    "data=data_encoded"
   ]
  },
  {
   "cell_type": "markdown",
   "id": "30208c43",
   "metadata": {},
   "source": [
    "## 机器学习"
   ]
  },
  {
   "cell_type": "markdown",
   "id": "966062d5",
   "metadata": {},
   "source": [
    "### 逻辑回归\n",
    "在下面的代码中会用到逻辑回归的损失函数为\n",
    "\n",
    "$$ J(\\theta) = -\\frac{1}{m} \\sum_{i=1}^{m} \\left[ y_i \\log(h_\\theta(x_i)) + (1 - y_i) \\log(1 - h_\\theta(x_i)) \\right]$$\n",
    "\n",
    "其中：\n",
    "- $ m $ 是样本数量\n",
    "- $ y_i $ 是第 $ i $ 个样本的真实标签\n",
    "- $ h_\\theta(x_i)  $是第$i $ 个样本的预测值，即 $ h_\\theta(x_i) = \\sigma(\\theta^T x_i) $\n",
    "- $ \\sigma(z) $ 是逻辑函数( sigmoid 函数)，定义为 $ \\sigma(z) = \\frac{1}{1 + e^{-z}} $\n"
   ]
  },
  {
   "cell_type": "code",
   "execution_count": 201,
   "id": "75819726",
   "metadata": {},
   "outputs": [
    {
     "name": "stdout",
     "output_type": "stream",
     "text": [
      "     Pclass       Age  SibSp  Parch      Fare  Sex_female  Sex_male  \\\n",
      "0         3 -0.592481      1      0 -0.502445           0         1   \n",
      "1         1  0.638789      1      0  0.786845           1         0   \n",
      "2         3 -0.284663      0      0 -0.488854           1         0   \n",
      "3         1  0.407926      1      0  0.420730           1         0   \n",
      "4         3  0.407926      0      0 -0.486337           0         1   \n",
      "..      ...       ...    ...    ...       ...         ...       ...   \n",
      "886       2 -0.207709      0      0 -0.386671           0         1   \n",
      "887       1 -0.823344      0      0 -0.044381           1         0   \n",
      "888       3  0.000000      1      2 -0.176263           1         0   \n",
      "889       1 -0.284663      0      0 -0.044381           0         1   \n",
      "890       3  0.177063      0      0 -0.492378           0         1   \n",
      "\n",
      "     Embarked_C  Embarked_Q  Embarked_S  \n",
      "0             0           0           1  \n",
      "1             1           0           0  \n",
      "2             0           0           1  \n",
      "3             0           0           1  \n",
      "4             0           0           1  \n",
      "..          ...         ...         ...  \n",
      "886           0           0           1  \n",
      "887           0           0           1  \n",
      "888           0           0           1  \n",
      "889           1           0           0  \n",
      "890           0           1           0  \n",
      "\n",
      "[891 rows x 10 columns]\n",
      "0      0\n",
      "1      1\n",
      "2      1\n",
      "3      1\n",
      "4      0\n",
      "      ..\n",
      "886    0\n",
      "887    1\n",
      "888    0\n",
      "889    1\n",
      "890    0\n",
      "Name: Survived, Length: 891, dtype: int64\n"
     ]
    }
   ],
   "source": [
    "X=data.drop(columns=['Survived'])\n",
    "y = data['Survived']\n",
    "print(X)\n",
    "print(y)"
   ]
  },
  {
   "cell_type": "code",
   "execution_count": 202,
   "id": "2292fe72",
   "metadata": {},
   "outputs": [
    {
     "name": "stdout",
     "output_type": "stream",
     "text": [
      "     Pclass       Age  SibSp  Parch      Fare  Sex_female  Sex_male  \\\n",
      "372       3 -0.823344      0      0 -0.486337           0         1   \n",
      "140       3  0.000000      0      2 -0.341452           1         0   \n",
      "439       2  0.100109      0      0 -0.437007           0         1   \n",
      "817       2  0.100109      1      1  0.096646           0         1   \n",
      "378       3 -0.746389      0      0 -0.567631           0         1   \n",
      "..      ...       ...    ...    ...       ...         ...       ...   \n",
      "835       1  0.715743      1      1  1.025945           1         0   \n",
      "192       3 -0.823344      1      0 -0.490280           1         0   \n",
      "629       3  0.000000      0      0 -0.492714           0         1   \n",
      "559       3  0.484880      1      0 -0.298078           1         0   \n",
      "684       2  2.331785      1      1  0.136831           0         1   \n",
      "\n",
      "     Embarked_C  Embarked_Q  Embarked_S  \n",
      "372           0           0           1  \n",
      "140           1           0           0  \n",
      "439           0           0           1  \n",
      "817           1           0           0  \n",
      "378           1           0           0  \n",
      "..          ...         ...         ...  \n",
      "835           1           0           0  \n",
      "192           0           0           1  \n",
      "629           0           1           0  \n",
      "559           0           0           1  \n",
      "684           0           0           1  \n",
      "\n",
      "[713 rows x 10 columns]\n"
     ]
    }
   ],
   "source": [
    "#定义划分训练集和测试集的函数\n",
    "def train_test_split(X, y, test_size=0.2, random_state=None):\n",
    "    if random_state is not None:\n",
    "        np.random.seed(random_state) #保证特定的random_state有特定的划分，不同的random_state划分不同\n",
    "    indices = np.random.permutation(len(X))\n",
    "    test_set_size = int(len(X) * test_size)\n",
    "    test_indices = indices[:test_set_size]\n",
    "    train_indices = indices[test_set_size:]\n",
    "    return X.iloc[train_indices], X.iloc[test_indices], y.iloc[train_indices], y.iloc[test_indices]\n",
    "\n",
    "# 调用函数。将1/4的数据设为测试集，剩余3/4为训练集\n",
    "X_train, X_test, y_train, y_test = train_test_split(X, y, test_size=0.2, random_state=0)\n",
    "print(X_train)"
   ]
  },
  {
   "cell_type": "code",
   "execution_count": 203,
   "id": "c4d26780",
   "metadata": {},
   "outputs": [],
   "source": [
    "#添加截距,给X_train和X_test的左边添加一列\"1\"\n",
    "X_train = np.hstack([np.ones((X_train.shape[0], 1)), X_train])\n",
    "X_test = np.hstack([np.ones((X_test.shape[0], 1)), X_test])"
   ]
  },
  {
   "cell_type": "markdown",
   "id": "63436cf0",
   "metadata": {},
   "source": [
    "初始化参数，再这里将其全部设置为0。"
   ]
  },
  {
   "cell_type": "code",
   "execution_count": 204,
   "id": "e26339a0",
   "metadata": {},
   "outputs": [],
   "source": [
    "# 初始化参数\n",
    "theta = np.zeros(X_train.shape[1])"
   ]
  },
  {
   "cell_type": "code",
   "execution_count": 205,
   "id": "e3ca2299",
   "metadata": {},
   "outputs": [],
   "source": [
    "# 定义sigmoid函数\n",
    "def sigmoid(z):\n",
    "    return 1 / (1 + np.exp(-z))\n",
    "# 定义损失函数，衡量模型是否准确\n",
    "def compute_cost(X, y, theta):\n",
    "    m = len(y)\n",
    "    h = sigmoid(X.dot(theta))\n",
    "    epsilon = 1e-5  # 用小量避免log(0)的出现\n",
    "    cost = -1/m * (y.dot(np.log(h + epsilon)) + (1 - y).dot(np.log(1 - h + epsilon)))\n",
    "    return cost"
   ]
  },
  {
   "cell_type": "markdown",
   "id": "3ce360b5",
   "metadata": {},
   "source": [
    "通过对每个变量求偏导，经过推导可以得出梯度的表达式$$\n",
    "\\frac{\\partial J(\\theta)}{\\partial \\theta_j} = \\frac{1}{m} \\sum_{i=1}^{m} \\left[ h_\\theta(x_i) - y_i \\right] x_{ij} \n",
    "$$，写成向量的形式为$$ \n",
    "\\nabla J(\\theta) = \\frac{1}{m} X^T (h_\\theta(X) - y) \n",
    "$$"
   ]
  },
  {
   "cell_type": "code",
   "execution_count": 206,
   "id": "533a4b53",
   "metadata": {},
   "outputs": [],
   "source": [
    "# 使用梯度下降算法，不断更新参数theta\n",
    "def gradient_descent(X, y, theta, learning_rate, num_iterations):\n",
    "    m = len(y)\n",
    "    cost_history = np.zeros(num_iterations)\n",
    "    \n",
    "    for i in range(num_iterations):\n",
    "        gradient = 1/m * X.T.dot(sigmoid(X.dot(theta)) - y)\n",
    "        theta = theta - learning_rate * gradient\n",
    "        cost_history[i] = compute_cost(X, y, theta)\n",
    "        \n",
    "    return theta, cost_history\n"
   ]
  },
  {
   "cell_type": "code",
   "execution_count": 207,
   "id": "d09d4233",
   "metadata": {},
   "outputs": [],
   "source": [
    "# 设置超参数(hyperparameters)即学习率和迭代次数,将迭代次数设置为10000\n",
    "learning_rate = 0.01\n",
    "num_iterations = 10000"
   ]
  },
  {
   "cell_type": "code",
   "execution_count": 208,
   "id": "f3d9c8f4",
   "metadata": {},
   "outputs": [],
   "source": [
    "# 训练模型\n",
    "theta, cost_history = gradient_descent(X_train, y_train, theta, learning_rate, num_iterations)"
   ]
  },
  {
   "cell_type": "code",
   "execution_count": 209,
   "id": "2374c396",
   "metadata": {},
   "outputs": [
    {
     "data": {
      "image/png": "[encoded data removed]",
      "text/plain": [
       "<Figure size 640x480 with 1 Axes>"
      ]
     },
     "metadata": {},
     "output_type": "display_data"
    }
   ],
   "source": [
    "# 绘制损失函数随迭代次数变化的图像\n",
    "plt.plot(range(num_iterations), cost_history)\n",
    "plt.xlabel('Number of Iterations')\n",
    "plt.ylabel('Cost')\n",
    "#plt.title('Cost Function History')\n",
    "plt.show()"
   ]
  },
  {
   "cell_type": "code",
   "execution_count": 210,
   "id": "af3d9f02",
   "metadata": {},
   "outputs": [
    {
     "name": "stdout",
     "output_type": "stream",
     "text": [
      "[0.69058057 0.68812448 0.68575513 ... 0.44768512 0.44768456 0.44768399]\n"
     ]
    }
   ],
   "source": [
    "print(cost_history)"
   ]
  },
  {
   "cell_type": "code",
   "execution_count": 211,
   "id": "1768e80b",
   "metadata": {},
   "outputs": [],
   "source": [
    "# 定义预测函数，当逻辑函数的值大于等于0.5认为存活，小于0.5认为不存活\n",
    "def predict(X, theta):\n",
    "    return sigmoid(X.dot(theta)) >= 0.5"
   ]
  },
  {
   "cell_type": "markdown",
   "id": "be8e9b15",
   "metadata": {},
   "source": [
    "我们利用测试集计算一下准确率"
   ]
  },
  {
   "cell_type": "code",
   "execution_count": 212,
   "id": "f72405ef",
   "metadata": {},
   "outputs": [
    {
     "name": "stdout",
     "output_type": "stream",
     "text": [
      "Accuracy: 79.21%\n"
     ]
    }
   ],
   "source": [
    "# 预测的y值\n",
    "y_pred = predict(X_test, theta)\n",
    "# y值预测准确则accuracy为1，预测不准确accuracy为0\n",
    "accuracy = np.mean(y_pred == y_test)\n",
    "#输出预测正确的样本数占总样本数的比例\n",
    "print(f'Accuracy: {accuracy * 100:.2f}%')"
   ]
  },
  {
   "cell_type": "markdown",
   "id": "c3c8c200",
   "metadata": {},
   "source": [
    "*由于这周大多数时间都在外地进行实践所以没有来得及进阶任务的学习和完成，在后面的时间会进行补充*"
   ]
  }
 ],
 "metadata": {
  "kernelspec": {
   "display_name": "Python 3 (ipykernel)",
   "language": "python",
   "name": "python3"
  },
  "language_info": {
   "codemirror_mode": {
    "name": "ipython",
    "version": 3
   },
   "file_extension": ".py",
   "mimetype": "text/x-python",
   "name": "python",
   "nbconvert_exporter": "python",
   "pygments_lexer": "ipython3",
   "version": "3.9.19"
  }
 },
 "nbformat": 4,
 "nbformat_minor": 5
}
